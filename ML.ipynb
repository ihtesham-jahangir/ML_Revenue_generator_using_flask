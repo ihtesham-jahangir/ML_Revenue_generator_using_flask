{
 "cells": [
  {
   "cell_type": "code",
   "execution_count": 12,
   "metadata": {},
   "outputs": [],
   "source": [
    "import pandas as pd\n",
    "import numpy as np\n",
    "import pickle \n",
    "from sklearn.model_selection import train_test_split\n",
    "from sklearn.linear_model import LinearRegression\n",
    "from sklearn.metrics import r2_score "
   ]
  },
  {
   "cell_type": "code",
   "execution_count": 13,
   "metadata": {},
   "outputs": [],
   "source": [
    "df = pd.read_csv('icrcreamshop-dataset.csv')"
   ]
  },
  {
   "cell_type": "code",
   "execution_count": 14,
   "metadata": {},
   "outputs": [
    {
     "name": "stdout",
     "output_type": "stream",
     "text": [
      "<class 'pandas.core.frame.DataFrame'>\n",
      "RangeIndex: 500 entries, 0 to 499\n",
      "Data columns (total 2 columns):\n",
      " #   Column       Non-Null Count  Dtype  \n",
      "---  ------       --------------  -----  \n",
      " 0   Temperature  500 non-null    float64\n",
      " 1   Revenue      500 non-null    float64\n",
      "dtypes: float64(2)\n",
      "memory usage: 7.9 KB\n"
     ]
    }
   ],
   "source": [
    "df.info()"
   ]
  },
  {
   "cell_type": "code",
   "execution_count": 15,
   "metadata": {},
   "outputs": [],
   "source": [
    "X = df['Temperature']\n",
    "y = df['Revenue']\n"
   ]
  },
  {
   "cell_type": "code",
   "execution_count": 16,
   "metadata": {},
   "outputs": [],
   "source": [
    "x_train , x_test ,y_train , y_test = train_test_split(X,y,test_size = 0.2)"
   ]
  },
  {
   "cell_type": "code",
   "execution_count": 17,
   "metadata": {},
   "outputs": [],
   "source": [
    "model = LinearRegression()"
   ]
  },
  {
   "cell_type": "code",
   "execution_count": 18,
   "metadata": {},
   "outputs": [
    {
     "data": {
      "text/plain": [
       "2"
      ]
     },
     "execution_count": 18,
     "metadata": {},
     "output_type": "execute_result"
    }
   ],
   "source": [
    "np.array([x_train]).ndim"
   ]
  },
  {
   "cell_type": "code",
   "execution_count": 22,
   "metadata": {},
   "outputs": [
    {
     "data": {
      "text/html": [
       "<style>#sk-container-id-2 {color: black;background-color: white;}#sk-container-id-2 pre{padding: 0;}#sk-container-id-2 div.sk-toggleable {background-color: white;}#sk-container-id-2 label.sk-toggleable__label {cursor: pointer;display: block;width: 100%;margin-bottom: 0;padding: 0.3em;box-sizing: border-box;text-align: center;}#sk-container-id-2 label.sk-toggleable__label-arrow:before {content: \"▸\";float: left;margin-right: 0.25em;color: #696969;}#sk-container-id-2 label.sk-toggleable__label-arrow:hover:before {color: black;}#sk-container-id-2 div.sk-estimator:hover label.sk-toggleable__label-arrow:before {color: black;}#sk-container-id-2 div.sk-toggleable__content {max-height: 0;max-width: 0;overflow: hidden;text-align: left;background-color: #f0f8ff;}#sk-container-id-2 div.sk-toggleable__content pre {margin: 0.2em;color: black;border-radius: 0.25em;background-color: #f0f8ff;}#sk-container-id-2 input.sk-toggleable__control:checked~div.sk-toggleable__content {max-height: 200px;max-width: 100%;overflow: auto;}#sk-container-id-2 input.sk-toggleable__control:checked~label.sk-toggleable__label-arrow:before {content: \"▾\";}#sk-container-id-2 div.sk-estimator input.sk-toggleable__control:checked~label.sk-toggleable__label {background-color: #d4ebff;}#sk-container-id-2 div.sk-label input.sk-toggleable__control:checked~label.sk-toggleable__label {background-color: #d4ebff;}#sk-container-id-2 input.sk-hidden--visually {border: 0;clip: rect(1px 1px 1px 1px);clip: rect(1px, 1px, 1px, 1px);height: 1px;margin: -1px;overflow: hidden;padding: 0;position: absolute;width: 1px;}#sk-container-id-2 div.sk-estimator {font-family: monospace;background-color: #f0f8ff;border: 1px dotted black;border-radius: 0.25em;box-sizing: border-box;margin-bottom: 0.5em;}#sk-container-id-2 div.sk-estimator:hover {background-color: #d4ebff;}#sk-container-id-2 div.sk-parallel-item::after {content: \"\";width: 100%;border-bottom: 1px solid gray;flex-grow: 1;}#sk-container-id-2 div.sk-label:hover label.sk-toggleable__label {background-color: #d4ebff;}#sk-container-id-2 div.sk-serial::before {content: \"\";position: absolute;border-left: 1px solid gray;box-sizing: border-box;top: 0;bottom: 0;left: 50%;z-index: 0;}#sk-container-id-2 div.sk-serial {display: flex;flex-direction: column;align-items: center;background-color: white;padding-right: 0.2em;padding-left: 0.2em;position: relative;}#sk-container-id-2 div.sk-item {position: relative;z-index: 1;}#sk-container-id-2 div.sk-parallel {display: flex;align-items: stretch;justify-content: center;background-color: white;position: relative;}#sk-container-id-2 div.sk-item::before, #sk-container-id-2 div.sk-parallel-item::before {content: \"\";position: absolute;border-left: 1px solid gray;box-sizing: border-box;top: 0;bottom: 0;left: 50%;z-index: -1;}#sk-container-id-2 div.sk-parallel-item {display: flex;flex-direction: column;z-index: 1;position: relative;background-color: white;}#sk-container-id-2 div.sk-parallel-item:first-child::after {align-self: flex-end;width: 50%;}#sk-container-id-2 div.sk-parallel-item:last-child::after {align-self: flex-start;width: 50%;}#sk-container-id-2 div.sk-parallel-item:only-child::after {width: 0;}#sk-container-id-2 div.sk-dashed-wrapped {border: 1px dashed gray;margin: 0 0.4em 0.5em 0.4em;box-sizing: border-box;padding-bottom: 0.4em;background-color: white;}#sk-container-id-2 div.sk-label label {font-family: monospace;font-weight: bold;display: inline-block;line-height: 1.2em;}#sk-container-id-2 div.sk-label-container {text-align: center;}#sk-container-id-2 div.sk-container {/* jupyter's `normalize.less` sets `[hidden] { display: none; }` but bootstrap.min.css set `[hidden] { display: none !important; }` so we also need the `!important` here to be able to override the default hidden behavior on the sphinx rendered scikit-learn.org. See: https://github.com/scikit-learn/scikit-learn/issues/21755 */display: inline-block !important;position: relative;}#sk-container-id-2 div.sk-text-repr-fallback {display: none;}</style><div id=\"sk-container-id-2\" class=\"sk-top-container\"><div class=\"sk-text-repr-fallback\"><pre>LinearRegression()</pre><b>In a Jupyter environment, please rerun this cell to show the HTML representation or trust the notebook. <br />On GitHub, the HTML representation is unable to render, please try loading this page with nbviewer.org.</b></div><div class=\"sk-container\" hidden><div class=\"sk-item\"><div class=\"sk-estimator sk-toggleable\"><input class=\"sk-toggleable__control sk-hidden--visually\" id=\"sk-estimator-id-2\" type=\"checkbox\" checked><label for=\"sk-estimator-id-2\" class=\"sk-toggleable__label sk-toggleable__label-arrow\">LinearRegression</label><div class=\"sk-toggleable__content\"><pre>LinearRegression()</pre></div></div></div></div></div>"
      ],
      "text/plain": [
       "LinearRegression()"
      ]
     },
     "execution_count": 22,
     "metadata": {},
     "output_type": "execute_result"
    }
   ],
   "source": [
    "model.fit(np.array([x_train]).reshape(-1,1),y_train)"
   ]
  },
  {
   "cell_type": "code",
   "execution_count": 32,
   "metadata": {},
   "outputs": [],
   "source": [
    "ypred = model.predict(np.array([x_test]).reshape(-1,1)).astype(int)"
   ]
  },
  {
   "cell_type": "code",
   "execution_count": 34,
   "metadata": {},
   "outputs": [
    {
     "data": {
      "text/plain": [
       "array([ 486.12193729,  353.53668618,  234.39418626,  315.23064087,\n",
       "        645.40052839,  590.26541088,  547.24065957,  412.84707014,\n",
       "        622.38114742,  828.80562907,  723.94773485,  361.62900822,\n",
       "        348.14867906,  626.78562711,  661.03814418,  559.48407831,\n",
       "        394.14091416,  655.94144644,  640.93479148,  940.03727454,\n",
       "        797.79621795,  628.05054493,  369.40555152,  265.44192825,\n",
       "        632.05006472,  269.76641471,  819.12048588,  318.08135193,\n",
       "        576.98880454,  541.68609157,  804.73862246,  304.81018061,\n",
       "        570.98087335,  484.34382737,  494.9921297 ,  296.46239047,\n",
       "         46.18645775,  203.17302642,  596.73973553,  233.56491512,\n",
       "        539.92294124,  710.26961355,  681.94935018,  368.22852137,\n",
       "        571.94472932,  415.61606689,  601.0135519 ,  530.98841027,\n",
       "        525.30573253,  590.24867672,  912.3742181 ,  308.79860501,\n",
       "        673.49567576,  456.48924824,  469.48663875,  748.25013426,\n",
       "        576.46708368,  186.20344168,  508.4906331 ,  795.94084793,\n",
       "        708.87327159,  446.5683649 ,  550.7625407 ,  444.30571661,\n",
       "        506.05700524,  759.16394673,  571.55249301,   51.90114336,\n",
       "        606.71688363,  520.27615269,  233.57454761,  510.84718235,\n",
       "        539.61471622,  839.25851113,  231.05075611,  630.71057864,\n",
       "        466.13288014,  460.57917932,  470.30353659,  686.49248287,\n",
       "        640.71961736,  802.3130641 ,  535.02967911,  697.37457635,\n",
       "        551.06033289,  332.19741758,  585.31057245,  493.44190701,\n",
       "        312.90698554,  658.97974431,  422.29435405,  315.58682318,\n",
       "        268.83111337,  599.74601416,  424.06218694,  623.08982548,\n",
       "        520.14193293, 1009.23581378,  577.33500538,  700.26092944])"
      ]
     },
     "execution_count": 34,
     "metadata": {},
     "output_type": "execute_result"
    }
   ],
   "source": [
    "ypred"
   ]
  },
  {
   "cell_type": "code",
   "execution_count": 36,
   "metadata": {},
   "outputs": [
    {
     "data": {
      "text/plain": [
       "0.9856902582424858"
      ]
     },
     "execution_count": 36,
     "metadata": {},
     "output_type": "execute_result"
    }
   ],
   "source": [
    "r2_score(y_test,ypred)"
   ]
  },
  {
   "cell_type": "code",
   "execution_count": 43,
   "metadata": {},
   "outputs": [
    {
     "data": {
      "text/plain": [
       "array([ 802.02194656,  592.65506228,  388.85658987,  627.7414883 ,\n",
       "        240.21434212,  744.28754399,  670.51748065,  728.42461721,\n",
       "        626.5347765 ,  744.65294936,  621.09032579,  896.86954077,\n",
       "        131.36519594,  315.05126262,  652.33752802,  667.32290408,\n",
       "        569.95248993,  704.27414454,  423.85784216,  468.74423781,\n",
       "        484.12565366,  436.19035717,  494.77151321,  701.54756763,\n",
       "        419.54270661,  451.58048126,  588.10740153,  312.29407804,\n",
       "        605.07075261,  381.48584299,  322.11755759,  747.97141905,\n",
       "        939.71456235,  535.41162753,  465.81653695,  522.1069851 ,\n",
       "        733.03789387,  400.34575511, 1008.89722708,  588.97798907,\n",
       "        364.80721033,  479.21642109,  262.59258491,  655.10983607,\n",
       "        622.57029921,  591.66480865,  458.55886978,  599.50136657,\n",
       "        539.38386308,  659.05227507,   66.97009288,  317.90131971,\n",
       "        510.45064011,  741.01256204,  519.91554695,  431.05082994,\n",
       "        469.18158487,  697.10753226,  536.90412028,  444.76348889,\n",
       "        547.26693759,  514.59036993,  757.51126004,  233.41390169,\n",
       "        636.58359299,  474.34310844,  262.09849795,  397.09509657,\n",
       "        456.93914267,  396.5292162 ,  450.18204743,  331.292937  ,\n",
       "        662.91572405,  400.30071464,  460.36645734,  211.78838854,\n",
       "        291.16754627,  308.6207023 ,  403.46754143,  621.06108363,\n",
       "        315.40736322,  268.66237941,  531.30351871,  238.45818293,\n",
       "        639.32942604,  688.55794939,  575.87854506,  638.85143543,\n",
       "        663.68234666,   46.06879965,  592.76706062,  413.84674501,\n",
       "        660.77943586,  453.8648636 ,  494.2742793 ,  685.3862952 ,\n",
       "        484.1562164 ,  581.02439764,  312.46916068,  559.06232057])"
      ]
     },
     "execution_count": 43,
     "metadata": {},
     "output_type": "execute_result"
    }
   ],
   "source": [
    "ypred"
   ]
  },
  {
   "cell_type": "code",
   "execution_count": 37,
   "metadata": {},
   "outputs": [],
   "source": [
    "with open ('model1.pkl' ,'wb') as file:\n",
    "    pickle.dump(model,file)"
   ]
  }
 ],
 "metadata": {
  "kernelspec": {
   "display_name": ".venv",
   "language": "python",
   "name": "python3"
  },
  "language_info": {
   "codemirror_mode": {
    "name": "ipython",
    "version": 3
   },
   "file_extension": ".py",
   "mimetype": "text/x-python",
   "name": "python",
   "nbconvert_exporter": "python",
   "pygments_lexer": "ipython3",
   "version": "3.11.3"
  },
  "orig_nbformat": 4
 },
 "nbformat": 4,
 "nbformat_minor": 2
}
